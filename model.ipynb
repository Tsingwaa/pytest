{
 "cells": [
  {
   "cell_type": "code",
   "execution_count": null,
   "id": "105c863c-a29b-4478-91c2-6b4e69a9176a",
   "metadata": {},
   "outputs": [],
   "source": [
    "import torch\n",
    "import numpy as np\n",
    "from torch import nn\n",
    "from os.path import join\n",
    "from torchvision import models, transforms\n",
    "from PIL import Image"
   ]
  },
  {
   "cell_type": "code",
   "execution_count": null,
   "id": "b9720191-8dac-4fda-aa4b-61a3a93f514c",
   "metadata": {},
   "outputs": [],
   "source": [
    "resnet18 = models.resnet18(num_classes=100, pretrained=False) "
   ]
  },
  {
   "cell_type": "code",
   "execution_count": null,
   "id": "1e82edd6-9645-4ad1-9e61-c9385c2c3991",
   "metadata": {
    "tags": []
   },
   "outputs": [],
   "source": [
    "def print_type(m):\n",
    "    if : \n",
    "        print(m)\n",
    "\n",
    "resnet18.apply(print_type)\n",
    "\n",
    "torch.nn.Sequential(*list(models.resnet18().children()) + [torch.nn.Flatten()])"
   ]
  },
  {
   "cell_type": "code",
   "execution_count": null,
   "id": "54845828-3537-4a12-bd96-6ea732f5fa5b",
   "metadata": {
    "jupyter": {
     "source_hidden": true
    },
    "tags": []
   },
   "outputs": [],
   "source": [
    "mean = [0.485,0.456,0.406] #dataLoader中设置的mean参数\n",
    "std = [0.229,0.224,0.225]  #dataLoader中设置的std参数\n",
    "\n",
    "def tensor2img(input_image, imtype=np.uint8, mean=None, std=None):\n",
    "    \"\"\"\"将tensor的数据类型转成numpy类型，并反归一化.\n",
    "\n",
    "    Parameters:\n",
    "        input_image (tensor) --  输入的图像tensor数组\n",
    "        imtype (type)        --  转换后的numpy的数据类型\n",
    "    \"\"\"\n",
    "    if not isinstance(input_image, np.ndarray):\n",
    "        if isinstance(input_image, torch.Tensor): #如果传入的图片类型为torch.Tensor，则读取其数据进行下面的处理\n",
    "            image_tensor = input_image.data\n",
    "        else:\n",
    "            return input_image\n",
    "        image_numpy = image_tensor.cpu().float().numpy()  # convert it into a numpy array\n",
    "        if image_numpy.shape[0] == 1:  # grayscale to RGB\n",
    "            image_numpy = np.tile(image_numpy, (3, 1, 1))\n",
    "        for i in range(len(mean)): #反标准化\n",
    "            image_numpy[i] = image_numpy[i] * std[i] + mean[i]\n",
    "        image_numpy = image_numpy * 255 #反ToTensor(),从[0,1]转为[0,255]\n",
    "        image_numpy = np.transpose(image_numpy, (1, 2, 0))  # 从(channels, height, width)变为(height, width, channels)\n",
    "    else:  # 如果传入的是numpy数组,则不做处理\n",
    "        image_numpy = input_image\n",
    "    return image_numpy.astype(imtype)"
   ]
  },
  {
   "cell_type": "code",
   "execution_count": null,
   "id": "576608f0-bdc8-459b-85ed-5285cdbf5c59",
   "metadata": {
    "jupyter": {
     "source_hidden": true
    },
    "tags": []
   },
   "outputs": [],
   "source": [
    "# code in this file is adpated from\n",
    "# https://github.com/ildoonet/pytorch-randaugment/blob/master/RandAugment/augmentations.py\n",
    "# https://github.com/google-research/fixmatch/blob/master/third_party/auto_augment/augmentations.py\n",
    "# https://github.com/google-research/fixmatch/blob/master/libml/ctaugment.py\n",
    "import logging\n",
    "import random\n",
    "\n",
    "import numpy as np\n",
    "import PIL\n",
    "import PIL.ImageOps\n",
    "import PIL.ImageEnhance\n",
    "import PIL.ImageDraw\n",
    "from PIL import Image\n",
    "\n",
    "logger = logging.getLogger(__name__)\n",
    "\n",
    "PARAMETER_MAX = 10\n",
    "\n",
    "\n",
    "def AutoContrast(img, **kwarg):\n",
    "    return PIL.ImageOps.autocontrast(img)\n",
    "\n",
    "\n",
    "def Brightness(img, v, max_v, bias=0):\n",
    "    v = _float_parameter(v, max_v) + bias\n",
    "    return PIL.ImageEnhance.Brightness(img).enhance(v)\n",
    "\n",
    "\n",
    "def Color(img, v, max_v, bias=0):\n",
    "    v = _float_parameter(v, max_v) + bias\n",
    "    return PIL.ImageEnhance.Color(img).enhance(v)\n",
    "\n",
    "\n",
    "def Contrast(img, v, max_v, bias=0):\n",
    "    v = _float_parameter(v, max_v) + bias\n",
    "    return PIL.ImageEnhance.Contrast(img).enhance(v)\n",
    "\n",
    "\n",
    "def Cutout(img, v, max_v, bias=0):\n",
    "    if v == 0:\n",
    "        return img\n",
    "    v = _float_parameter(v, max_v) + bias\n",
    "    v = int(v * min(img.size))\n",
    "    return CutoutAbs(img, v)\n",
    "\n",
    "\n",
    "def CutoutAbs(img, v=40, **kwarg):\n",
    "    w, h = img.size\n",
    "    x0 = np.random.uniform(0, w)\n",
    "    y0 = np.random.uniform(0, h)\n",
    "    x0 = int(max(0, x0 - v / 2.))\n",
    "    y0 = int(max(0, y0 - v / 2.))\n",
    "    x1 = int(min(w, x0 + v))\n",
    "    y1 = int(min(h, y0 + v))\n",
    "    xy = (x0, y0, x1, y1)\n",
    "    # gray\n",
    "    color = (127, 127, 127)\n",
    "    img = img.copy()\n",
    "    PIL.ImageDraw.Draw(img).rectangle(xy, color)\n",
    "    return img\n",
    "\n",
    "\n",
    "def Equalize(img, **kwarg):\n",
    "    return PIL.ImageOps.equalize(img)\n",
    "\n",
    "\n",
    "def Identity(img, **kwarg):\n",
    "    return img\n",
    "\n",
    "\n",
    "def Invert(img, **kwarg):\n",
    "    return PIL.ImageOps.invert(img)\n",
    "\n",
    "\n",
    "def Posterize(img, v, max_v, bias=0):\n",
    "    v = _int_parameter(v, max_v) + bias\n",
    "    return PIL.ImageOps.posterize(img, v)\n",
    "\n",
    "\n",
    "def Rotate(img, v, max_v, bias=0):\n",
    "    v = _int_parameter(v, max_v) + bias\n",
    "    if random.random() < 0.5:\n",
    "        v = -v\n",
    "    return img.rotate(v)\n",
    "\n",
    "\n",
    "def Sharpness(img, v, max_v, bias=0):\n",
    "    v = _float_parameter(v, max_v) + bias\n",
    "    return PIL.ImageEnhance.Sharpness(img).enhance(v)\n",
    "\n",
    "\n",
    "def ShearX(img, v, max_v, bias=0):\n",
    "    v = _float_parameter(v, max_v) + bias\n",
    "    if random.random() < 0.5:\n",
    "        v = -v\n",
    "    return img.transform(img.size, PIL.Image.AFFINE, (1, v, 0, 0, 1, 0))\n",
    "\n",
    "\n",
    "def ShearY(img, v, max_v, bias=0):\n",
    "    v = _float_parameter(v, max_v) + bias\n",
    "    if random.random() < 0.5:\n",
    "        v = -v\n",
    "    return img.transform(img.size, PIL.Image.AFFINE, (1, 0, 0, v, 1, 0))\n",
    "\n",
    "\n",
    "def Solarize(img, v, max_v, bias=0):\n",
    "    v = _int_parameter(v, max_v) + bias\n",
    "    return PIL.ImageOps.solarize(img, 256 - v)\n",
    "\n",
    "\n",
    "def SolarizeAdd(img, v, max_v, bias=0, threshold=128):\n",
    "    v = _int_parameter(v, max_v) + bias\n",
    "    if random.random() < 0.5:\n",
    "        v = -v\n",
    "    img_np = np.array(img).astype(np.int)\n",
    "    img_np = img_np + v\n",
    "    img_np = np.clip(img_np, 0, 255)\n",
    "    img_np = img_np.astype(np.uint8)\n",
    "    img = Image.fromarray(img_np)\n",
    "    return PIL.ImageOps.solarize(img, threshold)\n",
    "\n",
    "\n",
    "def TranslateX(img, v, max_v, bias=0):\n",
    "    v = _float_parameter(v, max_v) + bias\n",
    "    if random.random() < 0.5:\n",
    "        v = -v\n",
    "    v = int(v * img.size[0])\n",
    "    return img.transform(img.size, PIL.Image.AFFINE, (1, 0, v, 0, 1, 0))\n",
    "\n",
    "\n",
    "def TranslateY(img, v, max_v, bias=0):\n",
    "    v = _float_parameter(v, max_v) + bias\n",
    "    if random.random() < 0.5:\n",
    "        v = -v\n",
    "    v = int(v * img.size[1])\n",
    "    return img.transform(img.size, PIL.Image.AFFINE, (1, 0, 0, 0, 1, v))\n",
    "\n",
    "\n",
    "def _float_parameter(v, max_v):\n",
    "    return float(v) * max_v / PARAMETER_MAX\n",
    "\n",
    "\n",
    "def _int_parameter(v, max_v):\n",
    "    return int(v * max_v / PARAMETER_MAX)\n",
    "\n",
    "\n",
    "def fixmatch_augment_pool():\n",
    "    # FixMatch paper\n",
    "    augs = [(AutoContrast, None, None),\n",
    "            (Brightness, 0.9, 0.05),\n",
    "            (Color, 0.9, 0.05),\n",
    "            (Contrast, 0.9, 0.05),\n",
    "            (Equalize, None, None),\n",
    "            (Identity, None, None),\n",
    "            (Posterize, 4, 4),\n",
    "            (Rotate, 30, 0),\n",
    "            (Sharpness, 0.9, 0.05),\n",
    "            (ShearX, 0.3, 0),\n",
    "            (ShearY, 0.3, 0),\n",
    "            (Solarize, 256, 0),\n",
    "            (TranslateX, 0.3, 0),\n",
    "            (TranslateY, 0.3, 0)]\n",
    "    return augs\n",
    "\n",
    "\n",
    "def my_augment_pool():\n",
    "    # Test\n",
    "    augs = [(AutoContrast, None, None),\n",
    "            (Brightness, 1.8, 0.1),\n",
    "            (Color, 1.8, 0.1),\n",
    "            (Contrast, 1.8, 0.1),\n",
    "            (Cutout, 0.2, 0),\n",
    "            (Equalize, None, None),\n",
    "            (Invert, None, None),\n",
    "            (Posterize, 4, 4),\n",
    "            (Rotate, 30, 0),\n",
    "            (Sharpness, 1.8, 0.1),\n",
    "            (ShearX, 0.3, 0),\n",
    "            (ShearY, 0.3, 0),\n",
    "            (Solarize, 256, 0),\n",
    "            (SolarizeAdd, 110, 0),\n",
    "            (TranslateX, 0.45, 0),\n",
    "            (TranslateY, 0.45, 0)]\n",
    "    return augs\n",
    "\n",
    "\n",
    "class RandAugmentPC(object):\n",
    "    def __init__(self, n, m):\n",
    "        assert n >= 1\n",
    "        assert 1 <= m <= 10\n",
    "        self.n = n\n",
    "        self.m = m\n",
    "        self.augment_pool = my_augment_pool()\n",
    "\n",
    "    def __call__(self, img):\n",
    "        ops = random.choices(self.augment_pool, k=self.n)\n",
    "        for op, max_v, bias in ops:\n",
    "            prob = np.random.uniform(0.2, 0.8)\n",
    "            if random.random() + prob >= 1:\n",
    "                img = op(img, v=self.m, max_v=max_v, bias=bias)\n",
    "        img = CutoutAbs(img, int(32*0.5))\n",
    "        return img\n",
    "\n",
    "\n",
    "class RandAugmentMC(object):\n",
    "    def __init__(self, n=2, m=10):\n",
    "        assert n >= 1\n",
    "        assert 1 <= m <= 10\n",
    "        self.n = n\n",
    "        self.m = m\n",
    "        self.augment_pool = fixmatch_augment_pool()\n",
    "\n",
    "    def __call__(self, img):\n",
    "        ops = random.choices(self.augment_pool, k=self.n)\n",
    "        img = CutoutAbs(img, int(224*0.5))\n",
    "        out = []\n",
    "        for op, max_v, bias in ops:\n",
    "            v = np.random.randint(1, self.m)\n",
    "            out.append([op, v, max_v, bias])\n",
    "            if random.random() < 0.5:\n",
    "                img = op(img, v=v, max_v=max_v, bias=bias)\n",
    "                \n",
    "        # print(out)\n",
    "        return img"
   ]
  },
  {
   "cell_type": "code",
   "execution_count": null,
   "id": "6bd9a799-9ee0-47b1-a5d5-0f60bec81e82",
   "metadata": {
    "jupyter": {
     "source_hidden": true
    },
    "tags": []
   },
   "outputs": [],
   "source": [
    "transform_train = transforms.Compose([\n",
    "    transforms.Resize(256),\n",
    "    transforms.RandomCrop((224, 224)),\n",
    "    CutoutAbs,\n",
    "    transforms.RandomHorizontalFlip(0.5),\n",
    "    transforms.RandomRotation(25),\n",
    "])\n",
    "\n",
    "def show_imgs(img_path, transform):\n",
    "    img_ori = Image.open(img_path).convert('RGB')\n",
    "    img_trans = transform(img_ori)\n",
    "    # img_ori.show()\n",
    "    img_trans.show()\n",
    "    return img_trans\n",
    "\n",
    "data_root = '/home/waa/Data/miniImageNet/'\n",
    "img_path1 = join(data_root, 'train/Americanegret/n02009912_10212.JPEG')\n",
    "img_path2 = join(data_root, 'train/Americanegret/n02009912_9056.JPEG')\n",
    "img_path3 = join(data_root, 'train/artichoke/n07718747_1554.JPEG')\n",
    "img_path4 = join(data_root, 'train/badger/n02447366_2475.JPEG')\n",
    "img_path5 = join(data_root, 'train/birdhouse/n02843684_2113.JPEG')\n",
    "img_path6 = join(data_root, 'train/bottlecap/n02877765_5096.JPEG')\n",
    "img_path7 = join(data_root, 'train/crocodile/n01697457_9993.JPEG')\n",
    "for i in range(32):\n",
    "    img_trans = show_imgs(img_path7, transform=transform_train)"
   ]
  },
  {
   "cell_type": "code",
   "execution_count": null,
   "id": "606981dd-68fb-414f-8af3-7fca5c8383c7",
   "metadata": {
    "jupyter": {
     "source_hidden": true
    },
    "tags": []
   },
   "outputs": [],
   "source": [
    "import torch\n",
    "import torch.nn.functional as F\n",
    "inputs = torch.tensor([[0.1474, 0.6745, 0.8948],\n",
    "\t\t               [0.8524, 0.2278, 0.6476]])\n",
    "# targets = torch.tensor([[1., 0., 0.], [0., 1., 0.]])\n",
    "targets = torch.tensor([0, 1])\n",
    "weight = torch.tensor([1.0, 3.0, 7.0])\n",
    "inputs = inputs.cuda()\n",
    "targets = targets.cuda()\n",
    "weight = weight.cuda()\n",
    "\n",
    "ori_a = F.cross_entropy(inputs, targets, reduction='none') \n",
    "print(weight.device)\n",
    "N_weight = weight[targets]\n",
    "print(N_weight.device)\n",
    "print(ori_a)\n",
    "print(ori_a * N_weight)\n",
    "print(torch.exp(ori_a))"
   ]
  },
  {
   "cell_type": "code",
   "execution_count": null,
   "id": "5632e1d2-58d9-465f-9f90-74d56afec80d",
   "metadata": {},
   "outputs": [],
   "source": [
    "resnet18 = models.resnet18(num_classes=100, pretrained=False) "
   ]
  },
  {
   "cell_type": "code",
   "execution_count": null,
   "id": "39f41dc4-1ff8-48db-98f4-959348838866",
   "metadata": {
    "jupyter": {
     "source_hidden": true
    },
    "tags": []
   },
   "outputs": [],
   "source": [
    "def freeze(model, unfreeze_keys):\n",
    "    for k, v in resnet18.named_parameters():\n",
    "        v.requires_grad = True if any(key in k for key in unfreeze_keys) else False\n",
    "    return model"
   ]
  },
  {
   "cell_type": "code",
   "execution_count": null,
   "id": "2ef4d618-b064-41c5-9f49-ba5e71858354",
   "metadata": {
    "jupyter": {
     "source_hidden": true
    },
    "tags": []
   },
   "outputs": [],
   "source": [
    "model = freeze(resnet18, unfreeze_keys=['fc'])"
   ]
  },
  {
   "cell_type": "code",
   "execution_count": null,
   "id": "4673f12a-342a-4759-a98e-dcb98ba4b301",
   "metadata": {
    "jupyter": {
     "source_hidden": true
    },
    "tags": []
   },
   "outputs": [],
   "source": [
    "# list(model.named_parameters())\n",
    "list(resnet18.named_parameters())"
   ]
  },
  {
   "cell_type": "code",
   "execution_count": null,
   "id": "8384c3d9-237c-4531-884b-48b3699ca8c2",
   "metadata": {},
   "outputs": [],
   "source": [
    "for named_key, param in resnet18.named_parameters():\n",
    "    param.requires_grad = True \n",
    "    print(named_key)"
   ]
  },
  {
   "cell_type": "code",
   "execution_count": null,
   "id": "235c44a3-5e41-4ec8-90d2-4f2daff66466",
   "metadata": {},
   "outputs": [],
   "source": [
    "list(resnet18.parameters())"
   ]
  },
  {
   "cell_type": "code",
   "execution_count": null,
   "id": "1ac0521e-d5a7-4f62-92c8-c7aed42adcef",
   "metadata": {},
   "outputs": [],
   "source": [
    "for m in resnet18.layer4[-1].modules():\n",
    "    print(m.__class__.__name__)"
   ]
  },
  {
   "cell_type": "code",
   "execution_count": null,
   "id": "485ff62f-b5e8-4c6d-b1ab-97a473fcf044",
   "metadata": {},
   "outputs": [],
   "source": [
    "resnet18.layer4[-1]"
   ]
  },
  {
   "cell_type": "code",
   "execution_count": null,
   "id": "423b4d2a-5b15-4990-9b30-b08f13031b64",
   "metadata": {},
   "outputs": [],
   "source": [
    "nn.Sequential(resnet18.layer4[-1], nn.Sequential(*list(resnet18.children())[-2:]))"
   ]
  },
  {
   "cell_type": "code",
   "execution_count": null,
   "id": "b0b911ca-36b8-4dd7-90ee-1a40667aca6e",
   "metadata": {},
   "outputs": [],
   "source": [
    "res_pool = nn.Sequential(*list(resnet18.children())[-1:])"
   ]
  },
  {
   "cell_type": "code",
   "execution_count": null,
   "id": "73e17399-47df-4428-9d29-b0461717f3c2",
   "metadata": {},
   "outputs": [],
   "source": [
    "x = torch.randn(1, 3, 224, 224)"
   ]
  },
  {
   "cell_type": "code",
   "execution_count": null,
   "id": "d264fc62-beed-4b14-aed0-b7618f866bb9",
   "metadata": {},
   "outputs": [],
   "source": [
    "res_pool[0] = nn.Linear(128, 64)"
   ]
  },
  {
   "cell_type": "code",
   "execution_count": null,
   "id": "3c42f9b7-57e2-406c-a6a2-a79b94f464eb",
   "metadata": {},
   "outputs": [],
   "source": [
    "res_pool"
   ]
  },
  {
   "cell_type": "code",
   "execution_count": null,
   "id": "da5d3c4f-e09d-4de4-b6fc-99c6ed5058a5",
   "metadata": {},
   "outputs": [],
   "source": [
    "resnet18"
   ]
  },
  {
   "cell_type": "code",
   "execution_count": null,
   "id": "815e2ca0-8ef3-43d3-9462-f9999a411b8f",
   "metadata": {},
   "outputs": [],
   "source": []
  }
 ],
 "metadata": {
  "kernelspec": {
   "display_name": "imb",
   "language": "python",
   "name": "imb"
  },
  "language_info": {
   "codemirror_mode": {
    "name": "ipython",
    "version": 3
   },
   "file_extension": ".py",
   "mimetype": "text/x-python",
   "name": "python",
   "nbconvert_exporter": "python",
   "pygments_lexer": "ipython3",
   "version": "3.8.12"
  },
  "widgets": {
   "application/vnd.jupyter.widget-state+json": {
    "state": {},
    "version_major": 2,
    "version_minor": 0
   }
  }
 },
 "nbformat": 4,
 "nbformat_minor": 5
}
