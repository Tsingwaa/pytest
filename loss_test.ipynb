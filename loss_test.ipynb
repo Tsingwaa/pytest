{
 "cells": [
  {
   "cell_type": "code",
   "execution_count": null,
   "id": "f926d7cb-8078-41b9-9c24-ef3d1821efc4",
   "metadata": {},
   "outputs": [],
   "source": [
    "import torch\n",
    "from torch import nn\n",
    "\n",
    "\n",
    "class CenterLoss(nn.Module):\n",
    "\n",
    "    def __init__(self, num_class=10, num_feature=2, **kwargs):\n",
    "        \"\"\"Initialize class centers\n",
    "        Args:\n",
    "            num_classes (int): number of classes.\n",
    "            feat_dim (int): feature dimension.\n",
    "        \"\"\"\n",
    "\n",
    "        super(CenterLoss, self).__init__()\n",
    "        self.num_class = num_class\n",
    "        self.num_feature = num_feature\n",
    "        self.centers = nn.Parameter(\n",
    "            torch.randn(self.num_class, self.num_feature))\n",
    "\n",
    "    def forward(self, x, labels):\n",
    "        \"\"\"\n",
    "        Args:\n",
    "            x: feature matrix with shape (batch_size, feat_dim).\n",
    "            labels: ground truth labels with shape (num_classes).\n",
    "        \"\"\"\n",
    "        center = self.centers[labels]\n",
    "        dist = (x - center).pow(2).sum(dim=-1)\n",
    "        loss = torch.clamp(dist, min=1e-12, max=1e+12).mean(dim=-1)\n",
    "\n",
    "        return loss"
   ]
  },
  {
   "cell_type": "code",
   "execution_count": null,
   "id": "ff19c642-3c0a-4b6d-a5d5-f92aafbd3e3c",
   "metadata": {},
   "outputs": [],
   "source": [
    "center_loss = CenterLoss()"
   ]
  },
  {
   "cell_type": "code",
   "execution_count": null,
   "id": "e59f3a4a-280b-40d2-b724-3d3001bc9ccd",
   "metadata": {},
   "outputs": [],
   "source": [
    "center_loss.state_dict()"
   ]
  },
  {
   "cell_type": "code",
   "execution_count": null,
   "id": "d393fff3-77ca-442f-a8a9-d284c0ae04cc",
   "metadata": {},
   "outputs": [],
   "source": [
    "intercenter_dist = center_loss.centers.matmul(center_loss.centers.t())\n",
    "intercenter_dist"
   ]
  },
  {
   "cell_type": "code",
   "execution_count": null,
   "id": "7e2475fe-eaf4-4ac6-9ecd-5debe6248e49",
   "metadata": {},
   "outputs": [],
   "source": [
    "intercenter_dist -= torch.diag(torch.diag(intercenter_dist))"
   ]
  },
  {
   "cell_type": "code",
   "execution_count": null,
   "id": "02d24342-99b2-4446-803d-d4bd014248e7",
   "metadata": {},
   "outputs": [],
   "source": [
    "a = center_loss.centers.detach()"
   ]
  },
  {
   "cell_type": "code",
   "execution_count": null,
   "id": "9c0b82d7-ddef-4c42-9f99-c90c475c9eb2",
   "metadata": {},
   "outputs": [],
   "source": [
    "torch.sum(a.ge(0))"
   ]
  },
  {
   "cell_type": "code",
   "execution_count": null,
   "id": "52a2d479-613c-4254-9b9c-e3fce2098511",
   "metadata": {},
   "outputs": [],
   "source": []
  }
 ],
 "metadata": {
  "kernelspec": {
   "display_name": "imb",
   "language": "python",
   "name": "imb"
  },
  "language_info": {
   "codemirror_mode": {
    "name": "ipython",
    "version": 3
   },
   "file_extension": ".py",
   "mimetype": "text/x-python",
   "name": "python",
   "nbconvert_exporter": "python",
   "pygments_lexer": "ipython3",
   "version": "3.8.12"
  },
  "widgets": {
   "application/vnd.jupyter.widget-state+json": {
    "state": {},
    "version_major": 2,
    "version_minor": 0
   }
  }
 },
 "nbformat": 4,
 "nbformat_minor": 5
}
