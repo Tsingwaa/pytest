{
 "cells": [
  {
   "cell_type": "code",
   "execution_count": null,
   "id": "ab0fe111-daeb-4723-babd-9842408f2560",
   "metadata": {},
   "outputs": [],
   "source": [
    "import os\n",
    "import torch\n",
    "import torchvision\n",
    "import numpy as np\n",
    "import pandas as pd\n",
    "from sklearn import metrics\n",
    "from torchvision.datasets import ImageFolder"
   ]
  },
  {
   "cell_type": "code",
   "execution_count": null,
   "id": "6807d985-ef48-4072-ba86-15b217f2be0e",
   "metadata": {},
   "outputs": [],
   "source": [
    "import os\n",
    "train_root = '/home/waa/Data/Caltech/Caltech256-5/train/'\n",
    "test_root = '/home/waa/Data/Caltech/Caltech256-5/test/'\n",
    "trainset = ImageFolder(train_root)\n",
    "\n",
    "resnet34 = torchvision.models.resnet34(num_classes=10, pretrained=False, )\n",
    "\n",
    "state_dict_path = '/home/waa/.cache/torch/hub/checkpoints/resnet34-b627a593.pth'\n",
    "model_state_dict = torch.load(state_dict_path)\n",
    "model_state_dict = {k:v for k,v in model_state_dict.items() if 'fc' not in k}\n",
    "resnet34.load_state_dict(model_state_dict, strict=False)"
   ]
  },
  {
   "cell_type": "code",
   "execution_count": null,
   "id": "5c765f5b-1ec7-4ac2-85c9-1d33cd3a5a0b",
   "metadata": {},
   "outputs": [],
   "source": [
    "root_dir = '/home/waa/Experiments/20211018_Caltech256-5_baseline/'\n",
    "pred_list = np.load(root_dir + 'val_epoch247_pred_list.npy')\n",
    "true_list = np.load(root_dir + 'val_epoch247_label_list.npy')\n",
    "recall = metrics.recall_score(true_list, pred_list, average=None)\n",
    "\n",
    "np.around(recall, decimals=2)\n",
    "\n",
    "np.around([0.92, 0.99, 0.91, 0.83, 1.  ], decimals=1)"
   ]
  },
  {
   "cell_type": "code",
   "execution_count": null,
   "id": "730e2f6d-8d6b-4ed1-a950-a4cc5360c81f",
   "metadata": {
    "tags": []
   },
   "outputs": [],
   "source": [
    "import random\n",
    "class RandomCycleIter:\n",
    "    def __init__(self, data, test_mode=False):\n",
    "        self.data_list = list(data)\n",
    "        self.length = len(self.data_list)\n",
    "        self.i = self.length - 1\n",
    "        self.test_mode = test_mode\n",
    "\n",
    "    def __iter__(self):\n",
    "        return self\n",
    "\n",
    "    def __next__(self):\n",
    "        self.i += 1\n",
    "\n",
    "        if self.i == self.length:\n",
    "            self.i = 0\n",
    "            if not self.test_mode:\n",
    "                random.shuffle(self.data_list)\n",
    "\n",
    "        return self.data_list[self.i]\n"
   ]
  },
  {
   "cell_type": "code",
   "execution_count": null,
   "id": "eb834d50-52bd-4fc4-a0ab-e1846930ec27",
   "metadata": {},
   "outputs": [],
   "source": [
    "from torchvision.datasets import ImageFolder\n",
    "trainset = ImageFolder('/home/waa/Data/Caltech/Caltech256-10_split/train')\n",
    "testset = ImageFolder('/home/waa/Data/Caltech/Caltech256-10_split/test')\n",
    "\n",
    "print(trainset.class_to_idx)\n",
    "print(testset.class_to_idx)\n",
    "\n",
    "testset = ImageFolder('/home/waa/Data/Caltech/Caltech256-10_split/test')\n",
    "testset.class_to_idx"
   ]
  },
  {
   "cell_type": "code",
   "execution_count": null,
   "id": "28ea946d-9539-4b7c-b492-4cc277786a67",
   "metadata": {},
   "outputs": [],
   "source": []
  }
 ],
 "metadata": {
  "kernelspec": {
   "display_name": "imb",
   "language": "python",
   "name": "imb"
  },
  "language_info": {
   "codemirror_mode": {
    "name": "ipython",
    "version": 3
   },
   "file_extension": ".py",
   "mimetype": "text/x-python",
   "name": "python",
   "nbconvert_exporter": "python",
   "pygments_lexer": "ipython3",
   "version": "3.9.7"
  },
  "widgets": {
   "application/vnd.jupyter.widget-state+json": {
    "state": {},
    "version_major": 2,
    "version_minor": 0
   }
  }
 },
 "nbformat": 4,
 "nbformat_minor": 5
}
