{
 "cells": [
  {
   "cell_type": "code",
   "execution_count": 1,
   "id": "d59da809-0c1b-44b5-b948-302938def4d0",
   "metadata": {
    "tags": []
   },
   "outputs": [],
   "source": [
    "import torchvision\n",
    "from torchvision import transforms\n",
    "from PIL import Image\n",
    "import matplotlib.pyplot as plt\n",
    "from tqdm import tqdm\n",
    "import numpy as np\n",
    "import yaml\n",
    "import os\n",
    "import torch"
   ]
  },
  {
   "cell_type": "code",
   "execution_count": 12,
   "id": "18873af1-7c4c-4f5f-96c4-4caf4989cce1",
   "metadata": {
    "tags": []
   },
   "outputs": [],
   "source": [
    "cifar10_dataset = torchvision.datasets.CIFAR10(root='/home/chenghua/Data/cifar10/')\n",
    "cifar100_dataset = torchvision.datasets.CIFAR100(root='/home/chenghua/Data/cifar100/')"
   ]
  },
  {
   "cell_type": "code",
   "execution_count": null,
   "id": "3e26fcb1-4dce-48b3-9be4-a76b2014c763",
   "metadata": {},
   "outputs": [],
   "source": [
    "cifar_targets = np.array(cifar10_dataset.targets)\n",
    "index_0 = np.where(cifar_targets==4)[0]\n",
    "img = cifar10_dataset.data[index_0[5]] \n",
    "plt.imshow(img)\n",
    "plt.show()"
   ]
  },
  {
   "cell_type": "code",
   "execution_count": null,
   "id": "ca80013d-4e9e-46ee-893f-333971f2134f",
   "metadata": {
    "tags": []
   },
   "outputs": [],
   "source": [
    "index_8 = np.where(cifar_targets==8)[0]\n",
    "img = cifar10_dataset.data[index_8[200]] \n",
    "plt.imshow(img)\n",
    "plt.show()"
   ]
  },
  {
   "cell_type": "code",
   "execution_count": null,
   "id": "a1eff6bd-b263-49b5-b2d9-ae934a2c3d04",
   "metadata": {
    "tags": []
   },
   "outputs": [],
   "source": [
    "transform = transforms.Compose([\n",
    "    transforms.ToTensor(),\n",
    "    transforms.Normalize((0.5, 0.5, 0.5), (0.5, 0.5, 0.5))\n",
    "])\n",
    "cifar10 = torchvision.datasets.CIFAR10(root='/home/chenghua/Data/cifar10/', train=True, download=False, transform=transform)\n",
    "# trainset = ImbalanceCIFAR10(data_root='/home/waa/Data/CIFAR10/', train=True, download=False, transform=None)"
   ]
  },
  {
   "cell_type": "code",
   "execution_count": 20,
   "id": "e3d94263-a606-46ea-8bc1-c550a3a8019a",
   "metadata": {},
   "outputs": [],
   "source": [
    "a = torch.randn(size=(2, 5))"
   ]
  },
  {
   "cell_type": "code",
   "execution_count": 21,
   "id": "d88da1d4-1a00-4e35-aeb9-bf0a1348370e",
   "metadata": {},
   "outputs": [
    {
     "data": {
      "text/plain": [
       "tensor([[-1.0570,  1.4360,  1.4913, -0.0869,  0.9557],\n",
       "        [ 0.7305,  2.3317, -0.2251, -1.4884,  0.7062]])"
      ]
     },
     "execution_count": 21,
     "metadata": {},
     "output_type": "execute_result"
    }
   ],
   "source": [
    "a"
   ]
  },
  {
   "cell_type": "code",
   "execution_count": 23,
   "id": "ceb15759-c698-4c09-8f87-b701151b76de",
   "metadata": {},
   "outputs": [
    {
     "data": {
      "text/plain": [
       "tensor([2.5148, 2.9555])"
      ]
     },
     "execution_count": 23,
     "metadata": {},
     "output_type": "execute_result"
    }
   ],
   "source": [
    "torch.norm(a, dim=1)"
   ]
  },
  {
   "cell_type": "code",
   "execution_count": 1,
   "id": "372f53e1-4f3d-48da-815e-ebccba334bac",
   "metadata": {},
   "outputs": [],
   "source": [
    "from datetime import datetime"
   ]
  },
  {
   "cell_type": "code",
   "execution_count": 13,
   "id": "f52c33d1-3afe-4e19-b478-ad3cde3d8499",
   "metadata": {},
   "outputs": [
    {
     "name": "stdout",
     "output_type": "stream",
     "text": [
      "2021-12-13 15:36:22\n"
     ]
    }
   ],
   "source": [
    "print(datetime.now().strftime('%Y-%m-%d %H:%M:%S'))"
   ]
  },
  {
   "cell_type": "code",
   "execution_count": 25,
   "id": "0682062d-d7f5-40ec-a3b6-dbcb050fabf9",
   "metadata": {},
   "outputs": [
    {
     "data": {
      "text/plain": [
       "tensor([[0, 1, 0, 0, 0],\n",
       "        [0, 0, 0, 1, 0],\n",
       "        [0, 0, 0, 0, 1],\n",
       "        [1, 0, 0, 0, 0],\n",
       "        [0, 0, 1, 0, 0],\n",
       "        [0, 0, 1, 0, 0],\n",
       "        [0, 0, 0, 0, 1]])"
      ]
     },
     "execution_count": 25,
     "metadata": {},
     "output_type": "execute_result"
    }
   ],
   "source": [
    "num_classes = 5\n",
    "index = torch.tensor([1, 3, 4, 0, 2, 2, 4])\n",
    "torch.zeros(len(index), num_classes, dtype=index.dtype).scatter_(1, index.view(-1, 1), 1)"
   ]
  },
  {
   "cell_type": "code",
   "execution_count": 26,
   "id": "16caf937-dd81-41a4-be9d-9f5e0d05c06b",
   "metadata": {},
   "outputs": [
    {
     "data": {
      "text/plain": [
       "tensor([[1],\n",
       "        [3],\n",
       "        [4],\n",
       "        [0],\n",
       "        [2],\n",
       "        [2],\n",
       "        [4]])"
      ]
     },
     "execution_count": 26,
     "metadata": {},
     "output_type": "execute_result"
    }
   ],
   "source": [
    "index.view(-1, 1)"
   ]
  },
  {
   "cell_type": "code",
   "execution_count": 28,
   "id": "203d62b7-ca68-44dc-9eb5-087850788690",
   "metadata": {},
   "outputs": [
    {
     "data": {
      "text/plain": [
       "torch.Tensor"
      ]
     },
     "execution_count": 28,
     "metadata": {},
     "output_type": "execute_result"
    }
   ],
   "source": [
    "type(index)"
   ]
  },
  {
   "cell_type": "code",
   "execution_count": 53,
   "id": "ab03e828-a020-4b51-ac55-e0920e291e5e",
   "metadata": {},
   "outputs": [],
   "source": [
    "def label2onehot(targets, num_classes):\n",
    "    if not isinstance(targets, torch.Tensor):\n",
    "        targets = torch.tensor(targets)\n",
    "    batch_size = len(targets)\n",
    "    init_zeros = torch.zeros(batch_size, num_classes)\n",
    "    return init_zeros.scatter_(1, targets.view(-1, 1), 1)"
   ]
  },
  {
   "cell_type": "code",
   "execution_count": 59,
   "id": "ba914406-3628-4cb5-97cb-42ecea0b2cbb",
   "metadata": {},
   "outputs": [],
   "source": [
    "oh = label2onehot(index, num_classes=9)"
   ]
  },
  {
   "cell_type": "code",
   "execution_count": 60,
   "id": "aa3241c0-0623-44d5-a510-e1c331922fd5",
   "metadata": {},
   "outputs": [
    {
     "data": {
      "text/plain": [
       "tensor([[0., 1., 0., 0., 0., 0., 0., 0., 0.],\n",
       "        [0., 0., 0., 1., 0., 0., 0., 0., 0.],\n",
       "        [0., 0., 0., 0., 1., 0., 0., 0., 0.],\n",
       "        [1., 0., 0., 0., 0., 0., 0., 0., 0.],\n",
       "        [0., 0., 1., 0., 0., 0., 0., 0., 0.],\n",
       "        [0., 0., 1., 0., 0., 0., 0., 0., 0.],\n",
       "        [0., 0., 0., 0., 1., 0., 0., 0., 0.]])"
      ]
     },
     "execution_count": 60,
     "metadata": {},
     "output_type": "execute_result"
    }
   ],
   "source": [
    "oh"
   ]
  },
  {
   "cell_type": "code",
   "execution_count": 12,
   "id": "23dee407-83ea-4ae6-bb34-b4cdace04cd2",
   "metadata": {},
   "outputs": [],
   "source": [
    "a = np.array([[1, 2], [3, 4]])"
   ]
  },
  {
   "cell_type": "code",
   "execution_count": 13,
   "id": "86aa6854-eda4-44cf-befb-98de8def6ae8",
   "metadata": {},
   "outputs": [
    {
     "data": {
      "text/plain": [
       "array([[1, 2],\n",
       "       [3, 4]])"
      ]
     },
     "execution_count": 13,
     "metadata": {},
     "output_type": "execute_result"
    }
   ],
   "source": [
    "a"
   ]
  },
  {
   "cell_type": "code",
   "execution_count": 22,
   "id": "752e5874-b1f0-4307-8600-b90ee85364b4",
   "metadata": {},
   "outputs": [
    {
     "data": {
      "text/plain": [
       "array([3, 7])"
      ]
     },
     "execution_count": 22,
     "metadata": {},
     "output_type": "execute_result"
    }
   ],
   "source": [
    "np.sum(a, axis=1)"
   ]
  },
  {
   "cell_type": "code",
   "execution_count": 23,
   "id": "d13fbb61-49e2-45fe-b950-23d564eb5194",
   "metadata": {},
   "outputs": [
    {
     "data": {
      "text/plain": [
       "array([0.33333333, 0.57142857])"
      ]
     },
     "execution_count": 23,
     "metadata": {},
     "output_type": "execute_result"
    }
   ],
   "source": [
    "np.diag(a) / np.sum(a, 1)"
   ]
  },
  {
   "cell_type": "code",
   "execution_count": 36,
   "id": "363e3b1f-5af4-4198-a090-6f12e146b811",
   "metadata": {},
   "outputs": [],
   "source": [
    "a = np.array([[1, 2], [2, 3]])\n",
    "b = np.array([[3], [5]])"
   ]
  },
  {
   "cell_type": "code",
   "execution_count": 38,
   "id": "782cc9a6-435b-4b87-8d4d-83d18353c91f",
   "metadata": {},
   "outputs": [
    {
     "data": {
      "text/plain": [
       "array([[1, 2],\n",
       "       [2, 3]])"
      ]
     },
     "execution_count": 38,
     "metadata": {},
     "output_type": "execute_result"
    }
   ],
   "source": [
    "a"
   ]
  },
  {
   "cell_type": "code",
   "execution_count": 37,
   "id": "6ab73e59-73f0-4c8e-a0c1-a3393cf00144",
   "metadata": {},
   "outputs": [
    {
     "data": {
      "text/plain": [
       "array([[3],\n",
       "       [5]])"
      ]
     },
     "execution_count": 37,
     "metadata": {},
     "output_type": "execute_result"
    }
   ],
   "source": [
    "b"
   ]
  },
  {
   "cell_type": "code",
   "execution_count": 39,
   "id": "4bde37f0-f248-4ddb-a4fc-0b6a6d047afe",
   "metadata": {},
   "outputs": [
    {
     "data": {
      "text/plain": [
       "array([[13],\n",
       "       [21]])"
      ]
     },
     "execution_count": 39,
     "metadata": {},
     "output_type": "execute_result"
    }
   ],
   "source": [
    "np.matmul(a,b)"
   ]
  },
  {
   "cell_type": "code",
   "execution_count": 44,
   "id": "e93fb784-64d8-4057-8de1-6bbfa3901473",
   "metadata": {},
   "outputs": [],
   "source": [
    "a = torch.randint(3, (2, 2))\n",
    "b = torch.randint(3, (3, 2))"
   ]
  },
  {
   "cell_type": "code",
   "execution_count": 45,
   "id": "d6cc10b3-e15e-46f2-9a48-1b82807322ce",
   "metadata": {},
   "outputs": [
    {
     "data": {
      "text/plain": [
       "tensor([[0, 1],\n",
       "        [1, 0]])"
      ]
     },
     "execution_count": 45,
     "metadata": {},
     "output_type": "execute_result"
    }
   ],
   "source": [
    "a"
   ]
  },
  {
   "cell_type": "code",
   "execution_count": 46,
   "id": "95e26e6d-087d-406d-94fb-d48255abc1bf",
   "metadata": {},
   "outputs": [
    {
     "data": {
      "text/plain": [
       "tensor([[1, 1],\n",
       "        [1, 0],\n",
       "        [1, 0]])"
      ]
     },
     "execution_count": 46,
     "metadata": {},
     "output_type": "execute_result"
    }
   ],
   "source": [
    "b"
   ]
  },
  {
   "cell_type": "code",
   "execution_count": 51,
   "id": "42b31506-f9ca-4003-8788-73fb75b0ffbf",
   "metadata": {},
   "outputs": [],
   "source": [
    "m = a.shape[0]\n",
    "n = b.shape[0]"
   ]
  },
  {
   "cell_type": "code",
   "execution_count": 55,
   "id": "a4e07113-7a07-4cac-a662-22e1d43280c6",
   "metadata": {},
   "outputs": [
    {
     "data": {
      "text/plain": [
       "tensor([[1, 1, 1],\n",
       "        [1, 1, 1]])"
      ]
     },
     "execution_count": 55,
     "metadata": {},
     "output_type": "execute_result"
    }
   ],
   "source": [
    "torch.pow(a, 2).sum(1, keepdim=True).expand(m, n)"
   ]
  },
  {
   "cell_type": "code",
   "execution_count": 58,
   "id": "698d73b5-ce7e-4ad1-9291-699cf849a39e",
   "metadata": {},
   "outputs": [
    {
     "data": {
      "text/plain": [
       "tensor([[2, 1, 1],\n",
       "        [2, 1, 1]])"
      ]
     },
     "execution_count": 58,
     "metadata": {},
     "output_type": "execute_result"
    }
   ],
   "source": [
    "torch.pow(b, 2).sum(1, keepdim=True).expand(n, m).t()"
   ]
  },
  {
   "cell_type": "code",
   "execution_count": 60,
   "id": "2c552100-0eab-444c-8075-c4b4f9e77605",
   "metadata": {},
   "outputs": [
    {
     "data": {
      "text/plain": [
       "tensor([[3, 2, 2],\n",
       "        [3, 2, 2]])"
      ]
     },
     "execution_count": 60,
     "metadata": {},
     "output_type": "execute_result"
    }
   ],
   "source": [
    "dist = torch.pow(a, 2).sum(1, keepdim=True).expand(m, n) + torch.pow(b, 2).sum(1, keepdim=True).expand(n, m).t()\n",
    "dist"
   ]
  },
  {
   "cell_type": "code",
   "execution_count": 61,
   "id": "6ce39b19-8dc0-4a6f-809c-8e89d0faf96e",
   "metadata": {},
   "outputs": [
    {
     "data": {
      "text/plain": [
       "tensor([[1.7321, 1.4142, 1.4142],\n",
       "        [1.7321, 1.4142, 1.4142]])"
      ]
     },
     "execution_count": 61,
     "metadata": {},
     "output_type": "execute_result"
    }
   ],
   "source": [
    "torch.pow(dist, 1/2)"
   ]
  },
  {
   "cell_type": "code",
   "execution_count": 63,
   "id": "34f5f475-7b0f-4955-b5a6-17d9665f3844",
   "metadata": {},
   "outputs": [
    {
     "data": {
      "text/plain": [
       "tensor([[3.0000, 2.0000, 2.0000],\n",
       "        [3.0000, 2.0000, 2.0000]])"
      ]
     },
     "execution_count": 63,
     "metadata": {},
     "output_type": "execute_result"
    }
   ],
   "source": [
    "torch.square(torch.sqrt(dist))"
   ]
  },
  {
   "cell_type": "code",
   "execution_count": 69,
   "id": "25c9106c-27cf-4e35-8e30-f57e5bb44ec9",
   "metadata": {},
   "outputs": [],
   "source": [
    "a = torch.tensor([[3,4], [6,8]]).float()"
   ]
  },
  {
   "cell_type": "code",
   "execution_count": 70,
   "id": "8812d20e-1b15-45b6-ad0d-c778cb14bd3b",
   "metadata": {},
   "outputs": [
    {
     "data": {
      "text/plain": [
       "tensor([[3., 4.],\n",
       "        [6., 8.]])"
      ]
     },
     "execution_count": 70,
     "metadata": {},
     "output_type": "execute_result"
    }
   ],
   "source": [
    "a"
   ]
  },
  {
   "cell_type": "code",
   "execution_count": 73,
   "id": "2a6a4178-f525-4d0c-b462-b8637412e24d",
   "metadata": {},
   "outputs": [
    {
     "data": {
      "text/plain": [
       "tensor([[ 5.],\n",
       "        [10.]])"
      ]
     },
     "execution_count": 73,
     "metadata": {},
     "output_type": "execute_result"
    }
   ],
   "source": [
    "torch.norm(a, dim=1, keepdim=True)"
   ]
  },
  {
   "cell_type": "code",
   "execution_count": 88,
   "id": "c837e061-c3ab-41e8-aa50-47086c3f2281",
   "metadata": {},
   "outputs": [],
   "source": [
    "a = torch.tensor([[1,1],[1,1]])"
   ]
  },
  {
   "cell_type": "code",
   "execution_count": 89,
   "id": "43602995-ad4c-4d6c-9160-54152adc1231",
   "metadata": {},
   "outputs": [
    {
     "data": {
      "text/plain": [
       "tensor([[1, 1],\n",
       "        [1, 1]])"
      ]
     },
     "execution_count": 89,
     "metadata": {},
     "output_type": "execute_result"
    }
   ],
   "source": [
    "a"
   ]
  },
  {
   "cell_type": "code",
   "execution_count": 92,
   "id": "e69d5a2f-823f-4953-bb5d-9cbaa59c12b1",
   "metadata": {},
   "outputs": [],
   "source": [
    "b = torch.tensor([[2,3], [2,3], [2,3]])"
   ]
  },
  {
   "cell_type": "code",
   "execution_count": 93,
   "id": "5d3edf20-80cc-4d39-a0ee-8b851b6ad610",
   "metadata": {},
   "outputs": [
    {
     "data": {
      "text/plain": [
       "tensor([[2, 3],\n",
       "        [2, 3],\n",
       "        [2, 3]])"
      ]
     },
     "execution_count": 93,
     "metadata": {},
     "output_type": "execute_result"
    }
   ],
   "source": [
    "b"
   ]
  },
  {
   "cell_type": "code",
   "execution_count": 94,
   "id": "12df260a-22fa-4bc6-b2c7-56bac3270f39",
   "metadata": {},
   "outputs": [
    {
     "data": {
      "text/plain": [
       "tensor([[5, 5, 5],\n",
       "        [5, 5, 5]])"
      ]
     },
     "execution_count": 94,
     "metadata": {},
     "output_type": "execute_result"
    }
   ],
   "source": [
    "a.mm(b.t())"
   ]
  },
  {
   "cell_type": "code",
   "execution_count": 95,
   "id": "77d98884-f0c8-4178-928e-eabab6881e5f",
   "metadata": {},
   "outputs": [],
   "source": [
    "a = torch.randint(10, (5, 10))"
   ]
  },
  {
   "cell_type": "code",
   "execution_count": 96,
   "id": "4fb8f93f-9dd3-4879-9c4a-0176d4647b9f",
   "metadata": {},
   "outputs": [
    {
     "data": {
      "text/plain": [
       "tensor([[1, 2, 0, 8, 5, 5, 4, 9, 6, 6],\n",
       "        [9, 3, 2, 3, 1, 9, 1, 3, 6, 8],\n",
       "        [7, 2, 6, 4, 5, 9, 2, 4, 9, 2],\n",
       "        [8, 6, 1, 1, 5, 1, 7, 1, 8, 0],\n",
       "        [2, 8, 4, 1, 2, 0, 1, 6, 8, 6]])"
      ]
     },
     "execution_count": 96,
     "metadata": {},
     "output_type": "execute_result"
    }
   ],
   "source": [
    "a"
   ]
  },
  {
   "cell_type": "code",
   "execution_count": 97,
   "id": "43f8bc28-b430-4c3d-8630-af4d0f5803cd",
   "metadata": {},
   "outputs": [
    {
     "data": {
      "text/plain": [
       "<function Tensor.max>"
      ]
     },
     "execution_count": 97,
     "metadata": {},
     "output_type": "execute_result"
    }
   ],
   "source": [
    "a.max"
   ]
  },
  {
   "cell_type": "code",
   "execution_count": 102,
   "id": "2581b071-d2fd-46f8-a076-f0e3625482be",
   "metadata": {},
   "outputs": [
    {
     "data": {
      "text/plain": [
       "tensor([7, 0, 5, 0, 1])"
      ]
     },
     "execution_count": 102,
     "metadata": {},
     "output_type": "execute_result"
    }
   ],
   "source": [
    "a.max(1)[1]"
   ]
  },
  {
   "cell_type": "code",
   "execution_count": 128,
   "id": "60292906-231f-40f8-82fa-401f6ef44c0e",
   "metadata": {},
   "outputs": [],
   "source": [
    "class Result:\n",
    "    def __init__(self,):\n",
    "        self.cm = np.array([[2, 9],[3,4]])\n",
    "    \n",
    "    @property\n",
    "    def recalls(self): \n",
    "        return np.diag(self.cm) / np.sum(self.cm, axis=1)\n",
    "    \n",
    "    @property\n",
    "    def mean_recall(self):\n",
    "        return np.mean(self.recalls)"
   ]
  },
  {
   "cell_type": "code",
   "execution_count": 129,
   "id": "bdb26c5f-0bb1-4b8b-9512-c6730f0285e0",
   "metadata": {},
   "outputs": [],
   "source": [
    "res = Result()\n"
   ]
  },
  {
   "cell_type": "code",
   "execution_count": 130,
   "id": "bfffa08c-e97c-4eed-b542-be12f421e085",
   "metadata": {},
   "outputs": [
    {
     "data": {
      "text/plain": [
       "array([0.18181818, 0.57142857])"
      ]
     },
     "execution_count": 130,
     "metadata": {},
     "output_type": "execute_result"
    }
   ],
   "source": [
    "res.recalls"
   ]
  },
  {
   "cell_type": "code",
   "execution_count": 131,
   "id": "2c8bf1ac-2174-4735-8549-df128a23ab80",
   "metadata": {},
   "outputs": [
    {
     "data": {
      "text/plain": [
       "0.37662337662337664"
      ]
     },
     "execution_count": 131,
     "metadata": {},
     "output_type": "execute_result"
    }
   ],
   "source": [
    "res.mean_recall"
   ]
  },
  {
   "cell_type": "code",
   "execution_count": 144,
   "id": "772b1b8e-7bea-4cae-a8d7-29c6cc21c7a3",
   "metadata": {},
   "outputs": [],
   "source": [
    "a = torch.tensor([1.00, 2.00])"
   ]
  },
  {
   "cell_type": "code",
   "execution_count": 150,
   "id": "cc8007fc-7bf5-48fe-8bfb-c96de4d3341b",
   "metadata": {},
   "outputs": [],
   "source": [
    "arr = np.zeros((4,4))\n",
    "arr[a.int()[1]][1] += 1"
   ]
  },
  {
   "cell_type": "code",
   "execution_count": 151,
   "id": "fc2f8ded-a5d0-4f54-995d-514cd4faf714",
   "metadata": {},
   "outputs": [
    {
     "data": {
      "text/plain": [
       "array([[0., 0., 0., 0.],\n",
       "       [0., 0., 0., 0.],\n",
       "       [0., 1., 0., 0.],\n",
       "       [0., 0., 0., 0.]])"
      ]
     },
     "execution_count": 151,
     "metadata": {},
     "output_type": "execute_result"
    }
   ],
   "source": [
    "arr"
   ]
  },
  {
   "cell_type": "code",
   "execution_count": 152,
   "id": "246e61a5-b10f-4a8c-85df-3f30dcc8ca79",
   "metadata": {},
   "outputs": [
    {
     "ename": "AttributeError",
     "evalue": "'numpy.ndarray' object has no attribute 'int'",
     "output_type": "error",
     "traceback": [
      "\u001b[0;31m---------------------------------------------------------------------------\u001b[0m",
      "\u001b[0;31mAttributeError\u001b[0m                            Traceback (most recent call last)",
      "\u001b[0;32m/tmp/ipykernel_3184151/1504481622.py\u001b[0m in \u001b[0;36m<module>\u001b[0;34m\u001b[0m\n\u001b[0;32m----> 1\u001b[0;31m \u001b[0marr\u001b[0m\u001b[0;34m.\u001b[0m\u001b[0mint\u001b[0m\u001b[0;34m(\u001b[0m\u001b[0;34m)\u001b[0m\u001b[0;34m\u001b[0m\u001b[0;34m\u001b[0m\u001b[0m\n\u001b[0m",
      "\u001b[0;31mAttributeError\u001b[0m: 'numpy.ndarray' object has no attribute 'int'"
     ]
    }
   ],
   "source": []
  },
  {
   "cell_type": "code",
   "execution_count": 153,
   "id": "ef097766-b64a-4e6a-aaaa-81905efe9b70",
   "metadata": {},
   "outputs": [],
   "source": [
    "d = {1: 222}"
   ]
  },
  {
   "cell_type": "code",
   "execution_count": 163,
   "id": "6de46f6e-56a2-4ad9-8a4e-a915c761293a",
   "metadata": {},
   "outputs": [],
   "source": [
    "d.update({1: 2})"
   ]
  },
  {
   "cell_type": "code",
   "execution_count": 180,
   "id": "770f9041-22b6-4df6-85fe-fc0aba4af286",
   "metadata": {},
   "outputs": [
    {
     "data": {
      "text/plain": [
       "<function dict.setdefault(key, default=None, /)>"
      ]
     },
     "execution_count": 180,
     "metadata": {},
     "output_type": "execute_result"
    }
   ],
   "source": [
    "d.setdefault"
   ]
  },
  {
   "cell_type": "code",
   "execution_count": 183,
   "id": "2a2fc32e-641a-4cc4-ab5b-123236faaac8",
   "metadata": {},
   "outputs": [
    {
     "data": {
      "text/plain": [
       "2"
      ]
     },
     "execution_count": 183,
     "metadata": {},
     "output_type": "execute_result"
    }
   ],
   "source": [
    "d.pop(1, 3)"
   ]
  },
  {
   "cell_type": "code",
   "execution_count": 184,
   "id": "c2928191-3c32-4dbd-b0b5-0cd84a4f797a",
   "metadata": {},
   "outputs": [
    {
     "data": {
      "text/plain": [
       "{}"
      ]
     },
     "execution_count": 184,
     "metadata": {},
     "output_type": "execute_result"
    }
   ],
   "source": [
    "d"
   ]
  },
  {
   "cell_type": "code",
   "execution_count": null,
   "id": "3445b46c-4fdc-4e44-84c9-b745d551ff08",
   "metadata": {},
   "outputs": [],
   "source": []
  }
 ],
 "metadata": {
  "kernelspec": {
   "display_name": "imb",
   "language": "python",
   "name": "imb"
  },
  "language_info": {
   "codemirror_mode": {
    "name": "ipython",
    "version": 3
   },
   "file_extension": ".py",
   "mimetype": "text/x-python",
   "name": "python",
   "nbconvert_exporter": "python",
   "pygments_lexer": "ipython3",
   "version": "3.8.12"
  },
  "widgets": {
   "application/vnd.jupyter.widget-state+json": {
    "state": {},
    "version_major": 2,
    "version_minor": 0
   }
  }
 },
 "nbformat": 4,
 "nbformat_minor": 5
}
