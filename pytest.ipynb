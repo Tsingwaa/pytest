{
 "cells": [
  {
   "cell_type": "code",
   "execution_count": 5,
   "id": "d59da809-0c1b-44b5-b948-302938def4d0",
   "metadata": {
    "tags": []
   },
   "outputs": [],
   "source": [
    "import torchvision\n",
    "from torchvision import transforms\n",
    "from PIL import Image\n",
    "import matplotlib.pyplot as plt\n",
    "from tqdm import tqdm\n",
    "import numpy as np\n",
    "import yaml\n",
    "import os\n",
    "import torch"
   ]
  },
  {
   "cell_type": "code",
   "execution_count": 9,
   "id": "18873af1-7c4c-4f5f-96c4-4caf4989cce1",
   "metadata": {
    "tags": []
   },
   "outputs": [
    {
     "name": "stdout",
     "output_type": "stream",
     "text": [
      "Files already downloaded and verified\n"
     ]
    }
   ],
   "source": [
    "cifar10_dataset = torchvision.datasets.CIFAR10(root='~/Data/cifar10/', download=True)\n",
    "# cifar100_dataset = torchvision.datasets.CIFAR100(root='~/Data/cifar100/')"
   ]
  },
  {
   "cell_type": "code",
   "execution_count": 10,
   "id": "3e26fcb1-4dce-48b3-9be4-a76b2014c763",
   "metadata": {},
   "outputs": [
    {
     "data": {
      "image/png": "[encoded data removed]",
      "text/plain": [
       "<Figure size 432x288 with 1 Axes>"
      ]
     },
     "metadata": {
      "needs_background": "light"
     },
     "output_type": "display_data"
    }
   ],
   "source": [
    "cifar_targets = np.array(cifar10_dataset.targets)\n",
    "index_0 = np.where(cifar_targets==4)[0]\n",
    "img = cifar10_dataset.data[index_0[5]] \n",
    "plt.imshow(img)\n",
    "plt.show()"
   ]
  },
  {
   "cell_type": "code",
   "execution_count": 11,
   "id": "ca80013d-4e9e-46ee-893f-333971f2134f",
   "metadata": {
    "tags": []
   },
   "outputs": [
    {
     "data": {
      "image/png": "[encoded data removed]",
      "text/plain": [
       "<Figure size 432x288 with 1 Axes>"
      ]
     },
     "metadata": {
      "needs_background": "light"
     },
     "output_type": "display_data"
    }
   ],
   "source": [
    "index_8 = np.where(cifar_targets==8)[0]\n",
    "img = cifar10_dataset.data[index_8[200]] \n",
    "plt.imshow(img)\n",
    "plt.show()"
   ]
  },
  {
   "cell_type": "code",
   "execution_count": 14,
   "id": "ab03e828-a020-4b51-ac55-e0920e291e5e",
   "metadata": {},
   "outputs": [],
   "source": [
    "def label2onehot(targets, num_classes):\n",
    "    if not isinstance(targets, torch.Tensor):\n",
    "        targets = torch.tensor(targets)\n",
    "    batch_size = len(targets)\n",
    "    init_zeros = torch.zeros(batch_size, num_classes)\n",
    "    return init_zeros.scatter_(1, targets.view(-1, 1), 1)"
   ]
  },
  {
   "cell_type": "code",
   "execution_count": null,
   "id": "a4e07113-7a07-4cac-a662-22e1d43280c6",
   "metadata": {},
   "outputs": [],
   "source": [
    "torch.pow(a, 2).sum(1, keepdim=True).expand(m, n)"
   ]
  },
  {
   "cell_type": "code",
   "execution_count": null,
   "id": "698d73b5-ce7e-4ad1-9291-699cf849a39e",
   "metadata": {},
   "outputs": [],
   "source": [
    "torch.pow(b, 2).sum(1, keepdim=True).expand(n, m).t()"
   ]
  },
  {
   "cell_type": "code",
   "execution_count": null,
   "id": "2c552100-0eab-444c-8075-c4b4f9e77605",
   "metadata": {},
   "outputs": [],
   "source": [
    "dist = torch.pow(a, 2).sum(1, keepdim=True).expand(m, n) + torch.pow(b, 2).sum(1, keepdim=True).expand(n, m).t()\n",
    "dist"
   ]
  },
  {
   "cell_type": "code",
   "execution_count": null,
   "id": "6ce39b19-8dc0-4a6f-809c-8e89d0faf96e",
   "metadata": {},
   "outputs": [],
   "source": [
    "torch.pow(dist, 1/2)"
   ]
  },
  {
   "cell_type": "code",
   "execution_count": null,
   "id": "34f5f475-7b0f-4955-b5a6-17d9665f3844",
   "metadata": {},
   "outputs": [],
   "source": [
    "torch.square(torch.sqrt(dist))"
   ]
  },
  {
   "cell_type": "code",
   "execution_count": null,
   "id": "25c9106c-27cf-4e35-8e30-f57e5bb44ec9",
   "metadata": {},
   "outputs": [],
   "source": [
    "a = torch.tensor([[3,4], [6,8]]).float()"
   ]
  },
  {
   "cell_type": "code",
   "execution_count": null,
   "id": "8812d20e-1b15-45b6-ad0d-c778cb14bd3b",
   "metadata": {},
   "outputs": [],
   "source": [
    "a"
   ]
  },
  {
   "cell_type": "code",
   "execution_count": null,
   "id": "2a6a4178-f525-4d0c-b462-b8637412e24d",
   "metadata": {},
   "outputs": [],
   "source": [
    "torch.norm(a, dim=1, keepdim=True)"
   ]
  },
  {
   "cell_type": "code",
   "execution_count": null,
   "id": "c837e061-c3ab-41e8-aa50-47086c3f2281",
   "metadata": {},
   "outputs": [],
   "source": [
    "a = torch.tensor([[1,1],[1,1]])"
   ]
  },
  {
   "cell_type": "code",
   "execution_count": null,
   "id": "43602995-ad4c-4d6c-9160-54152adc1231",
   "metadata": {},
   "outputs": [],
   "source": [
    "a"
   ]
  },
  {
   "cell_type": "code",
   "execution_count": null,
   "id": "e69d5a2f-823f-4953-bb5d-9cbaa59c12b1",
   "metadata": {},
   "outputs": [],
   "source": [
    "b = torch.tensor([[2,3], [2,3], [2,3]])"
   ]
  },
  {
   "cell_type": "code",
   "execution_count": null,
   "id": "5d3edf20-80cc-4d39-a0ee-8b851b6ad610",
   "metadata": {},
   "outputs": [],
   "source": [
    "b"
   ]
  },
  {
   "cell_type": "code",
   "execution_count": null,
   "id": "12df260a-22fa-4bc6-b2c7-56bac3270f39",
   "metadata": {},
   "outputs": [],
   "source": [
    "a.mm(b.t())"
   ]
  },
  {
   "cell_type": "code",
   "execution_count": null,
   "id": "77d98884-f0c8-4178-928e-eabab6881e5f",
   "metadata": {},
   "outputs": [],
   "source": [
    "a = torch.randint(10, (5, 10))"
   ]
  },
  {
   "cell_type": "code",
   "execution_count": null,
   "id": "4fb8f93f-9dd3-4879-9c4a-0176d4647b9f",
   "metadata": {},
   "outputs": [],
   "source": [
    "a"
   ]
  },
  {
   "cell_type": "code",
   "execution_count": null,
   "id": "43f8bc28-b430-4c3d-8630-af4d0f5803cd",
   "metadata": {},
   "outputs": [],
   "source": [
    "a.max"
   ]
  },
  {
   "cell_type": "code",
   "execution_count": null,
   "id": "2581b071-d2fd-46f8-a076-f0e3625482be",
   "metadata": {},
   "outputs": [],
   "source": [
    "a.max(1)[1]"
   ]
  },
  {
   "cell_type": "code",
   "execution_count": null,
   "id": "60292906-231f-40f8-82fa-401f6ef44c0e",
   "metadata": {},
   "outputs": [],
   "source": [
    "class Result:\n",
    "    def __init__(self,):\n",
    "        self.cm = np.array([[2, 9],[3,4]])\n",
    "    \n",
    "    @property\n",
    "    def recalls(self): \n",
    "        return np.diag(self.cm) / np.sum(self.cm, axis=1)\n",
    "    \n",
    "    @property\n",
    "    def mean_recall(self):\n",
    "        return np.mean(self.recalls)"
   ]
  },
  {
   "cell_type": "code",
   "execution_count": null,
   "id": "bdb26c5f-0bb1-4b8b-9512-c6730f0285e0",
   "metadata": {},
   "outputs": [],
   "source": [
    "res = Result()\n"
   ]
  },
  {
   "cell_type": "code",
   "execution_count": null,
   "id": "bfffa08c-e97c-4eed-b542-be12f421e085",
   "metadata": {},
   "outputs": [],
   "source": [
    "res.recalls"
   ]
  },
  {
   "cell_type": "code",
   "execution_count": null,
   "id": "2c8bf1ac-2174-4735-8549-df128a23ab80",
   "metadata": {},
   "outputs": [],
   "source": [
    "res.mean_recall"
   ]
  },
  {
   "cell_type": "code",
   "execution_count": null,
   "id": "772b1b8e-7bea-4cae-a8d7-29c6cc21c7a3",
   "metadata": {},
   "outputs": [],
   "source": [
    "a = torch.tensor([1.00, 2.00])"
   ]
  },
  {
   "cell_type": "code",
   "execution_count": null,
   "id": "cc8007fc-7bf5-48fe-8bfb-c96de4d3341b",
   "metadata": {},
   "outputs": [],
   "source": [
    "arr = np.zeros((4,4))\n",
    "arr[a.int()[1]][1] += 1"
   ]
  },
  {
   "cell_type": "code",
   "execution_count": null,
   "id": "fc2f8ded-a5d0-4f54-995d-514cd4faf714",
   "metadata": {},
   "outputs": [],
   "source": [
    "arr"
   ]
  },
  {
   "cell_type": "code",
   "execution_count": null,
   "id": "246e61a5-b10f-4a8c-85df-3f30dcc8ca79",
   "metadata": {},
   "outputs": [],
   "source": []
  },
  {
   "cell_type": "code",
   "execution_count": null,
   "id": "ef097766-b64a-4e6a-aaaa-81905efe9b70",
   "metadata": {},
   "outputs": [],
   "source": [
    "d = {1: 222}"
   ]
  },
  {
   "cell_type": "code",
   "execution_count": null,
   "id": "6de46f6e-56a2-4ad9-8a4e-a915c761293a",
   "metadata": {},
   "outputs": [],
   "source": [
    "d.update({1: 2})"
   ]
  },
  {
   "cell_type": "code",
   "execution_count": null,
   "id": "770f9041-22b6-4df6-85fe-fc0aba4af286",
   "metadata": {},
   "outputs": [],
   "source": [
    "d.setdefault"
   ]
  },
  {
   "cell_type": "code",
   "execution_count": null,
   "id": "2a2fc32e-641a-4cc4-ab5b-123236faaac8",
   "metadata": {},
   "outputs": [],
   "source": [
    "d.pop(1, 3)"
   ]
  },
  {
   "cell_type": "code",
   "execution_count": null,
   "id": "c2928191-3c32-4dbd-b0b5-0cd84a4f797a",
   "metadata": {},
   "outputs": [],
   "source": [
    "d"
   ]
  },
  {
   "cell_type": "code",
   "execution_count": null,
   "id": "3445b46c-4fdc-4e44-84c9-b745d551ff08",
   "metadata": {},
   "outputs": [],
   "source": []
  }
 ],
 "metadata": {
  "interpreter": {
   "hash": "e7b66fcb3abacfe4b36437f5f088a4b147dc12c540f4a6e405fc137dbfbe7ae9"
  },
  "kernelspec": {
   "display_name": "imb",
   "language": "python",
   "name": "python3"
  },
  "language_info": {
   "codemirror_mode": {
    "name": "ipython",
    "version": 3
   },
   "file_extension": ".py",
   "mimetype": "text/x-python",
   "name": "python",
   "nbconvert_exporter": "python",
   "pygments_lexer": "ipython3",
   "version": "3.9.7"
  },
  "widgets": {
   "application/vnd.jupyter.widget-state+json": {
    "state": {},
    "version_major": 2,
    "version_minor": 0
   }
  }
 },
 "nbformat": 4,
 "nbformat_minor": 5
}
